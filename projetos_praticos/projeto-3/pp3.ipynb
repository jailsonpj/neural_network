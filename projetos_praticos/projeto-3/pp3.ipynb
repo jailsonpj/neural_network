{
 "cells": [
  {
   "cell_type": "code",
   "execution_count": null,
   "metadata": {},
   "outputs": [],
   "source": [
    "Jailson p"
   ]
  },
  {
   "cell_type": "code",
   "execution_count": 1,
   "metadata": {},
   "outputs": [],
   "source": [
    "import numpy as np\n",
    "import random"
   ]
  },
  {
   "cell_type": "code",
   "execution_count": 3,
   "metadata": {},
   "outputs": [],
   "source": [
    "# dados de treinamento com a bias\n",
    "X = [[-1,0,0],[-1,0,1],[-1,1,0],[-1,1,1]]\n",
    "#X = [[-1,2,2],[-1,4,4]] #teste de aula\n",
    "for i in range(len(X)):\n",
    "    X[i] = np.asarray(X[i])\n",
    "    \n",
    "Y = [1,1,1,0]\n",
    "#Y = [1,0]"
   ]
  },
  {
   "cell_type": "code",
   "execution_count": 4,
   "metadata": {},
   "outputs": [
    {
     "data": {
      "text/plain": [
       "[array([-1,  0,  0]),\n",
       " array([-1,  0,  1]),\n",
       " array([-1,  1,  0]),\n",
       " array([-1,  1,  1])]"
      ]
     },
     "execution_count": 4,
     "metadata": {},
     "output_type": "execute_result"
    }
   ],
   "source": [
    "X"
   ]
  },
  {
   "cell_type": "markdown",
   "metadata": {},
   "source": [
    "# Neurônio Perceptron - Treinamento"
   ]
  },
  {
   "cell_type": "code",
   "execution_count": 5,
   "metadata": {},
   "outputs": [],
   "source": [
    "#cálculo para a soma ponderada das entradas com seus respectivos pesos\n",
    "def calculo_pesos(x,w):\n",
    "    u = 0\n",
    "    for i in range(len(w)):\n",
    "        u = u + x[i] * w[i]\n",
    "    #print(u)    \n",
    "    return u"
   ]
  },
  {
   "cell_type": "code",
   "execution_count": 6,
   "metadata": {},
   "outputs": [],
   "source": [
    "#pesos = [-0.5441,0.5562,-0.4024]\n",
    "#x = [-1,2,2]\n",
    "#result = calculo_pesos(X[0],pesos)\n",
    "#print(result)\n",
    "#função ativação o"
   ]
  },
  {
   "cell_type": "code",
   "execution_count": 7,
   "metadata": {},
   "outputs": [],
   "source": [
    "#função de ativação \n",
    "def funcao_ativacao(x,w):\n",
    "    if(calculo_pesos(x,w) >= 0):\n",
    "        return 1\n",
    "    else:\n",
    "        return 0"
   ]
  },
  {
   "cell_type": "code",
   "execution_count": 9,
   "metadata": {},
   "outputs": [],
   "source": [
    "#cálculo do ajuste de pesos sinápticos\n",
    "def ajuste_pesos(e,wi,xi):\n",
    "    n = 0.1\n",
    "    aux = n * e * xi\n",
    "    w_ajus = wi + aux\n",
    "    return w_ajus\n",
    "    "
   ]
  },
  {
   "cell_type": "code",
   "execution_count": 10,
   "metadata": {},
   "outputs": [],
   "source": [
    "def train_perceptron(X,Y):\n",
    "    #w = [-0.5441,0.5562,-0.4024] #falta os pesos aleatórios\n",
    "    w = np.random.uniform(-0.5,0.5,3)\n",
    "    conv_max = False\n",
    "    cont = 0\n",
    "    qnt_ajuste_peso = 0\n",
    "    while(conv_max == False):\n",
    "        cont = cont + 1\n",
    "        lista_pred = []\n",
    "        conv = 0\n",
    "        print(\"Epoch:\",cont,\"#################################\")\n",
    "        print(\"Vetor de pesos na época \",cont, \":\",w)\n",
    "        for i in range(len(X)): \n",
    "            yi = funcao_ativacao(X[i],w)\n",
    "            e = Y[i] - yi\n",
    "            if(e != 0):\n",
    "                w = ajuste_pesos(e,w,X[i])\n",
    "                qnt_ajuste_peso = qnt_ajuste_peso + 1\n",
    "            else:\n",
    "                lista_pred.append(yi)\n",
    "                conv = conv + 1 \n",
    "              \n",
    "        print(\"quantidade de exemplos corretos: \",conv)\n",
    "        print(\"quantidade de exemplos errados: \",len(X) - conv)\n",
    "        print()\n",
    "        if(conv == len(X)):\n",
    "            conv_max = True\n",
    "            \n",
    "    print(\"pesos final: \",w)\n",
    "    print(\"quantidade de vezes que o peso foi ajustado: \",qnt_ajuste_peso)\n",
    "    return lista_pred,w"
   ]
  },
  {
   "cell_type": "code",
   "execution_count": 11,
   "metadata": {},
   "outputs": [
    {
     "name": "stdout",
     "output_type": "stream",
     "text": [
      "Epoch: 1 #################################\n",
      "Vetor de pesos na época  1 : [ 0.06314902 -0.14485108 -0.0192915 ]\n",
      "quantidade de exemplos corretos:  1\n",
      "quantidade de exemplos errados:  3\n",
      "\n",
      "Epoch: 2 #################################\n",
      "Vetor de pesos na época  2 : [-0.03685098 -0.14485108 -0.1192915 ]\n",
      "quantidade de exemplos corretos:  1\n",
      "quantidade de exemplos errados:  3\n",
      "\n",
      "Epoch: 3 #################################\n",
      "Vetor de pesos na época  3 : [-0.13685098 -0.14485108 -0.1192915 ]\n",
      "quantidade de exemplos corretos:  2\n",
      "quantidade de exemplos errados:  2\n",
      "\n",
      "Epoch: 4 #################################\n",
      "Vetor de pesos na época  4 : [-0.13685098 -0.14485108 -0.2192915 ]\n",
      "quantidade de exemplos corretos:  3\n",
      "quantidade de exemplos errados:  1\n",
      "\n",
      "Epoch: 5 #################################\n",
      "Vetor de pesos na época  5 : [-0.23685098 -0.14485108 -0.1192915 ]\n",
      "quantidade de exemplos corretos:  4\n",
      "quantidade de exemplos errados:  0\n",
      "\n",
      "pesos final:  [-0.23685098 -0.14485108 -0.1192915 ]\n",
      "quantidade de vezes que o peso foi ajustado:  9\n"
     ]
    }
   ],
   "source": [
    "(pred,W) = train_perceptron(X,Y)"
   ]
  },
  {
   "cell_type": "code",
   "execution_count": 12,
   "metadata": {},
   "outputs": [
    {
     "name": "stdout",
     "output_type": "stream",
     "text": [
      "[1, 1, 1, 0]\n"
     ]
    }
   ],
   "source": [
    "print(pred)"
   ]
  },
  {
   "cell_type": "code",
   "execution_count": 13,
   "metadata": {},
   "outputs": [
    {
     "name": "stdout",
     "output_type": "stream",
     "text": [
      "[-0.23685098 -0.14485108 -0.1192915 ]\n"
     ]
    }
   ],
   "source": [
    "print(W) #vetor de pesos após a convergência"
   ]
  },
  {
   "cell_type": "markdown",
   "metadata": {},
   "source": [
    "# Vissualização da Fronteira de Decisão"
   ]
  },
  {
   "cell_type": "code",
   "execution_count": 14,
   "metadata": {},
   "outputs": [],
   "source": [
    "import matplotlib.pyplot as plt"
   ]
  },
  {
   "cell_type": "code",
   "execution_count": 15,
   "metadata": {},
   "outputs": [
    {
     "data": {
      "text/plain": [
       "(array([-1,  0,  1]), array([-1,  1,  0]))"
      ]
     },
     "execution_count": 15,
     "metadata": {},
     "output_type": "execute_result"
    }
   ],
   "source": [
    "X[1],X[2]"
   ]
  },
  {
   "cell_type": "code",
   "execution_count": 16,
   "metadata": {},
   "outputs": [
    {
     "data": {
      "image/png": "[encoded data removed]",
      "text/plain": [
       "<Figure size 432x288 with 1 Axes>"
      ]
     },
     "metadata": {},
     "output_type": "display_data"
    }
   ],
   "source": [
    "cont = 0\n",
    "for i in X:\n",
    "    plt.plot(i[1],i[2],'ro' if (Y[cont] == 1.0) else 'bo')\n",
    "    cont = cont + 1\n",
    "for i in range(len(X)):#np.linspace(np.amin(X),np.amax(X)):\n",
    "    x = X[i]\n",
    "    yi = (W[0]/W[2]) - (W[1]/W[2]) * x\n",
    "    plt.plot(x,yi)"
   ]
  },
  {
   "cell_type": "markdown",
   "metadata": {},
   "source": [
    "# Funções de Ativação"
   ]
  },
  {
   "cell_type": "code",
   "execution_count": 17,
   "metadata": {},
   "outputs": [],
   "source": [
    "Xd = [1,2,3,4]#np.random.uniform(-1.5,1.5,4)\n",
    "Yd = np.random.uniform(-1.5,1.5,4)"
   ]
  },
  {
   "cell_type": "code",
   "execution_count": 18,
   "metadata": {},
   "outputs": [
    {
     "data": {
      "text/plain": [
       "array([-0.60707517,  1.26359347, -0.15737886, -0.9690683 ])"
      ]
     },
     "execution_count": 18,
     "metadata": {},
     "output_type": "execute_result"
    }
   ],
   "source": [
    "Yd"
   ]
  },
  {
   "cell_type": "code",
   "execution_count": 19,
   "metadata": {},
   "outputs": [
    {
     "data": {
      "image/png": "[encoded data removed]",
      "text/plain": [
       "<Figure size 432x288 with 1 Axes>"
      ]
     },
     "metadata": {},
     "output_type": "display_data"
    }
   ],
   "source": [
    "plt.step(Xd,Yd,0.5)\n",
    "plt.show()"
   ]
  },
  {
   "cell_type": "code",
   "execution_count": 20,
   "metadata": {},
   "outputs": [],
   "source": [
    "def sigmoid(x):\n",
    "    return 1/(1+np.exp(-x))"
   ]
  },
  {
   "cell_type": "code",
   "execution_count": 35,
   "metadata": {},
   "outputs": [
    {
     "data": {
      "image/png": "[encoded data removed]",
      "text/plain": [
       "<Figure size 432x288 with 1 Axes>"
      ]
     },
     "metadata": {},
     "output_type": "display_data"
    }
   ],
   "source": [
    "xs = np.linspace(-1.5,1.5,100)\n",
    "ys = sigmoid(xs)\n",
    "plt.plot(xs,ys)\n",
    "\n",
    "xs1 = np.linspace(-10,20,100)\n",
    "ys1 = sigmoid(xs1)\n",
    "plt.plot(xs1,ys1)\n",
    "\n",
    "xs2 = np.linspace(5,-20,100)\n",
    "ys2 = sigmoid(xs2)\n",
    "plt.plot(xs2,ys2)\n",
    "\n",
    "plt.show()"
   ]
  },
  {
   "cell_type": "code",
   "execution_count": 37,
   "metadata": {},
   "outputs": [],
   "source": [
    "a = np.linspace(-1.5,1.5,6)"
   ]
  },
  {
   "cell_type": "code",
   "execution_count": 38,
   "metadata": {},
   "outputs": [],
   "source": [
    "y = np.sinh(a)"
   ]
  },
  {
   "cell_type": "code",
   "execution_count": 39,
   "metadata": {},
   "outputs": [
    {
     "data": {
      "text/plain": [
       "array([-2.12927946, -1.02651673, -0.30452029,  0.30452029,  1.02651673,\n",
       "        2.12927946])"
      ]
     },
     "execution_count": 39,
     "metadata": {},
     "output_type": "execute_result"
    }
   ],
   "source": [
    "y"
   ]
  },
  {
   "cell_type": "code",
   "execution_count": 40,
   "metadata": {},
   "outputs": [],
   "source": [
    "x_th = np.linspace(-1.5,1.5,6) #[1,2,3,4,5,6]"
   ]
  },
  {
   "cell_type": "code",
   "execution_count": 41,
   "metadata": {},
   "outputs": [
    {
     "data": {
      "image/png": "[encoded data removed]",
      "text/plain": [
       "<Figure size 432x288 with 1 Axes>"
      ]
     },
     "metadata": {},
     "output_type": "display_data"
    }
   ],
   "source": [
    "plt.plot(x_th,y)\n",
    "plt.show()"
   ]
  },
  {
   "cell_type": "code",
   "execution_count": 42,
   "metadata": {},
   "outputs": [
    {
     "data": {
      "image/png": "[encoded data removed]",
      "text/plain": [
       "<Figure size 432x288 with 1 Axes>"
      ]
     },
     "metadata": {},
     "output_type": "display_data"
    }
   ],
   "source": [
    "x_relu = np.arange(-1.5,1.5,.1)\n",
    "zero = np.zeros(len(x_relu))\n",
    "y_relu = np.max([zero,x_relu],axis=0)\n",
    "\n",
    "plt.plot(x_relu,y_relu)\n",
    "plt.show()"
   ]
  },
  {
   "cell_type": "code",
   "execution_count": null,
   "metadata": {},
   "outputs": [],
   "source": []
  },
  {
   "cell_type": "code",
   "execution_count": null,
   "metadata": {},
   "outputs": [],
   "source": []
  }
 ],
 "metadata": {
  "kernelspec": {
   "display_name": "Python 3",
   "language": "python",
   "name": "python3"
  },
  "language_info": {
   "codemirror_mode": {
    "name": "ipython",
    "version": 3
   },
   "file_extension": ".py",
   "mimetype": "text/x-python",
   "name": "python",
   "nbconvert_exporter": "python",
   "pygments_lexer": "ipython3",
   "version": "3.6.5"
  }
 },
 "nbformat": 4,
 "nbformat_minor": 2
}
